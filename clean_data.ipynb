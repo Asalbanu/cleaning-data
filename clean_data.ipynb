{
 "cells": [
  {
   "cell_type": "code",
   "execution_count": 2,
   "id": "80fe6d4c-9d91-4068-bb5e-fdbd5b47eb59",
   "metadata": {},
   "outputs": [
    {
     "name": "stdout",
     "output_type": "stream",
     "text": [
      "[('ozone', 84), ('note', 30), ('layer', 25), ('radiation', 17), ('stratosphere', 15), ('earth', 14), ('ultraviolet', 14), ('dobson', 13), ('oxygen', 12), ('atmosphere', 12), ('surface', 11), ('redirect', 11), ('skin', 9), ('depletion', 9), ('oxide', 7), ('circulation', 7), ('sun', 7), ('cancer', 6), ('udes', 6), ('wavelength', 6), ('galex', 6), ('chlorofluorocarbon', 6), ('chlorofluorocarbons', 5), ('light', 5), ('hole', 5)]\n"
     ]
    },
    {
     "data": {
      "image/png": "[encoded data removed]",
      "text/plain": [
       "<Figure size 432x288 with 1 Axes>"
      ]
     },
     "metadata": {
      "needs_background": "light"
     },
     "output_type": "display_data"
    }
   ],
   "source": [
    "import urllib.request as ur\n",
    "from bs4 import BeautifulSoup\n",
    "import operator\n",
    "from matplotlib import pyplot as plt\n",
    "\n",
    "def get_content(article_name):\n",
    "    s = ur.urlopen(f'https://en.wikipedia.org/wiki/{article_name}')\n",
    "    sl = s.read()\n",
    "    return sl\n",
    "\n",
    "def merge_contents(data):\n",
    "    soup = BeautifulSoup(data, features=\"html.parser\")\n",
    "    ls = soup.find_all(\"title\")\n",
    "    ls.append(soup.find_all(\"p\"))\n",
    "    return  str(ls)\n",
    "\n",
    "def tokenize(content):\n",
    "    list_of_splitters = [ \"-\", \",\", \"\\t\", \"  \", \">\", \"<\", \"'\", '\"', \"\\n\", \"/\", \"_\", '’', ')', '(', '{', '}', '%', ' ',\n",
    "                          'the', 'it', '=', '.', '#', '[', ']', ':']\n",
    "    new_content = \"\".join(content)\n",
    "    for i in list_of_splitters:\n",
    "        new_content = new_content.replace(i, \" \")\n",
    "    return new_content\n",
    "\n",
    "def lower_collection(collection):\n",
    "    return collection.lower()\n",
    "\n",
    "def count_frequency(collection):\n",
    "    dict = {}\n",
    "    #new_col = collection.split()\n",
    "    uniques = set(collection)\n",
    "    for unique in uniques:\n",
    "        if len(unique) > 2:\n",
    "            dict[unique] = collection.count(unique)\n",
    "    return dict\n",
    "\n",
    "def print_most_frequent(frequencies, n):\n",
    "    sorted_frequencies = sorted(frequencies.items(), key=operator.itemgetter(1), reverse=True)\n",
    "    return  list(sorted_frequencies)[:n]\n",
    "\n",
    "def plotting(frequencies):\n",
    "    plt.hist(frequencies, orientation=\"horizontal\")\n",
    "    plt.show()\n",
    "\n",
    "def remove_stop_words(words, stop_words):\n",
    "    new_list = []\n",
    "    new_words = words.split()\n",
    "    for i in new_words:\n",
    "        if i not in stop_words:\n",
    "            new_list.append(i)\n",
    "    return new_list\n",
    "\n",
    "data = get_content(\"Ozone_layer\")\n",
    "merge_content = merge_contents(data)\n",
    "collection = tokenize(merge_content)\n",
    "collection = lower_collection(collection)\n",
    "stop_words = [ \"the\", \"a\", \"of\", \"to\", \"in\", \"about\", \"and\", \"however\", \"or\", 'href', 'sup', 'wiki', 'ref',\n",
    "               'reference', 'that', 'from', 'was', 'were', 'is', 'are', 'for', 'this', 'that', 'class', 'sub',\n",
    "               'have', 'because', 'span', 'which', 'aph', 'into', 'cfcs', 'has', 'most', 'out', 'lat', 'all',\n",
    "               'can', 'could', 'may', 'might', 'should', 'being', 'parser', '000', 'output', 'over', 'although'\n",
    "               'nor', 'between']\n",
    "new_collection = remove_stop_words(collection, stop_words)\n",
    "frequencies = count_frequency(new_collection)\n",
    "most_frequencies = print_most_frequent(frequencies, 25)\n",
    "print(most_frequencies)\n",
    "plotting(most_frequencies)"
   ]
  },
  {
   "cell_type": "code",
   "execution_count": null,
   "id": "77845c8c-8943-4c27-a639-5adeb077148c",
   "metadata": {},
   "outputs": [],
   "source": []
  }
 ],
 "metadata": {
  "kernelspec": {
   "display_name": "Python 3 (ipykernel)",
   "language": "python",
   "name": "python3"
  },
  "language_info": {
   "codemirror_mode": {
    "name": "ipython",
    "version": 3
   },
   "file_extension": ".py",
   "mimetype": "text/x-python",
   "name": "python",
   "nbconvert_exporter": "python",
   "pygments_lexer": "ipython3",
   "version": "3.10.1"
  }
 },
 "nbformat": 4,
 "nbformat_minor": 5
}
